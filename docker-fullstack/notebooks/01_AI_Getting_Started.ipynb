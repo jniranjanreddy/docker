{
  "cells": [
    {
      "cell_type": "markdown",
      "metadata": {},
      "source": [
        "# 🚀 AI Getting Started Guide\n",
        "\n",
        "Welcome to your AI learning journey! This notebook will help you get started with the basics of AI and machine learning.\n",
        "\n",
        "## What you'll learn:\n",
        "1. Basic Python for AI\n",
        "2. Data manipulation with pandas\n",
        "3. Simple machine learning models\n",
        "4. Visualization with matplotlib\n",
        "5. Using MLflow for experiment tracking\n"
      ]
    },
    {
      "cell_type": "code",
      "execution_count": null,
      "metadata": {},
      "outputs": [],
      "source": [
        "# Import essential libraries\n",
        "import pandas as pd\n",
        "import numpy as np\n",
        "import matplotlib.pyplot as plt\n",
        "import seaborn as sns\n",
        "from sklearn.model_selection import train_test_split\n",
        "from sklearn.linear_model import LinearRegression\n",
        "from sklearn.metrics import mean_squared_error, r2_score\n",
        "import mlflow\n",
        "import mlflow.sklearn\n",
        "\n",
        "print(\"✅ All libraries imported successfully!\")\n",
        "print(\"🎯 You're ready to start your AI journey!\")\n"
      ]
    }
  ],
  "metadata": {
    "language_info": {
      "name": "python"
    }
  },
  "nbformat": 4,
  "nbformat_minor": 2
}
